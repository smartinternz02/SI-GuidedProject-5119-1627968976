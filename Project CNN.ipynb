{
 "cells": [
  {
   "cell_type": "code",
   "execution_count": 23,
   "metadata": {},
   "outputs": [],
   "source": [
    "from tensorflow.keras.models import Sequential\n",
    "from tensorflow.keras.layers import Dense,Flatten,Convolution2D,MaxPooling2D"
   ]
  },
  {
   "cell_type": "code",
   "execution_count": 24,
   "metadata": {},
   "outputs": [],
   "source": [
    "from tensorflow.keras.preprocessing.image import ImageDataGenerator"
   ]
  },
  {
   "cell_type": "code",
   "execution_count": 25,
   "metadata": {},
   "outputs": [],
   "source": [
    "train_datagen= ImageDataGenerator(rescale=1./255,shear_range=0.2,zoom_range=0.2,horizontal_flip=True)\n",
    "test_datagen= ImageDataGenerator(rescale=1./255)"
   ]
  },
  {
   "cell_type": "code",
   "execution_count": 35,
   "metadata": {},
   "outputs": [
    {
     "name": "stdout",
     "output_type": "stream",
     "text": [
      "Found 1000 images belonging to 2 classes.\n",
      "Found 1000 images belonging to 2 classes.\n"
     ]
    }
   ],
   "source": [
    "x_train=train_datagen.flow_from_directory(r\"C:\\Externship CodeFiles\\Rock_Classification_Dataset\",target_size=(64,64),batch_size=32,class_mode='categorical')\n",
    "x_test=train_datagen.flow_from_directory(r\"C:\\Externship CodeFiles\\Rock_Classification_Dataset\",target_size=(64,64),batch_size=32,class_mode='categorical')"
   ]
  },
  {
   "cell_type": "code",
   "execution_count": 36,
   "metadata": {},
   "outputs": [],
   "source": [
    "cnn=Sequential()"
   ]
  },
  {
   "cell_type": "code",
   "execution_count": 37,
   "metadata": {},
   "outputs": [],
   "source": [
    "cnn.add(Convolution2D(32,(3,3),input_shape=(64,64,3)))"
   ]
  },
  {
   "cell_type": "code",
   "execution_count": 38,
   "metadata": {},
   "outputs": [],
   "source": [
    "cnn.add(MaxPooling2D(2,2))"
   ]
  },
  {
   "cell_type": "code",
   "execution_count": 39,
   "metadata": {},
   "outputs": [],
   "source": [
    "cnn.add(Flatten())"
   ]
  },
  {
   "cell_type": "code",
   "execution_count": 40,
   "metadata": {},
   "outputs": [],
   "source": [
    "cnn.add(Dense(units =128 ,kernel_initializer=\"random_uniform\",activation = 'relu'))"
   ]
  },
  {
   "cell_type": "code",
   "execution_count": 41,
   "metadata": {},
   "outputs": [],
   "source": [
    "cnn.add(Dense(units = 2,kernel_initializer=\"random_uniform\",activation = 'softmax'))"
   ]
  },
  {
   "cell_type": "code",
   "execution_count": 42,
   "metadata": {},
   "outputs": [],
   "source": [
    "cnn.compile(optimizer = 'rmsprop',loss=\"categorical_crossentropy\",metrics = ['accuracy'])"
   ]
  },
  {
   "cell_type": "code",
   "execution_count": 43,
   "metadata": {},
   "outputs": [
    {
     "name": "stdout",
     "output_type": "stream",
     "text": [
      "Epoch 1/15\n",
      "22/21 [==============================] - 11s 505ms/step - loss: 1.7123 - acc: 0.6059 - val_loss: 0.6693 - val_acc: 0.7156\n",
      "Epoch 2/15\n",
      "22/21 [==============================] - 6s 264ms/step - loss: 0.6762 - acc: 0.6853 - val_loss: 0.8120 - val_acc: 0.3594\n",
      "Epoch 3/15\n",
      "22/21 [==============================] - 4s 204ms/step - loss: 0.6715 - acc: 0.6471 - val_loss: 0.6402 - val_acc: 0.7156\n",
      "Epoch 4/15\n",
      "22/21 [==============================] - 8s 345ms/step - loss: 0.6547 - acc: 0.6719 - val_loss: 0.6336 - val_acc: 0.7219\n",
      "Epoch 5/15\n",
      "22/21 [==============================] - 8s 351ms/step - loss: 0.6553 - acc: 0.7000 - val_loss: 0.6818 - val_acc: 0.7156\n",
      "Epoch 6/15\n",
      "22/21 [==============================] - 6s 285ms/step - loss: 0.6193 - acc: 0.7003 - val_loss: 0.6071 - val_acc: 0.7219\n",
      "Epoch 7/15\n",
      "22/21 [==============================] - 6s 263ms/step - loss: 0.6116 - acc: 0.6868 - val_loss: 0.6343 - val_acc: 0.7156\n",
      "Epoch 8/15\n",
      "22/21 [==============================] - 8s 371ms/step - loss: 0.6448 - acc: 0.7216 - val_loss: 0.5976 - val_acc: 0.7281\n",
      "Epoch 9/15\n",
      "22/21 [==============================] - 7s 334ms/step - loss: 0.6083 - acc: 0.6956 - val_loss: 0.6328 - val_acc: 0.7250\n",
      "Epoch 10/15\n",
      "22/21 [==============================] - 9s 412ms/step - loss: 0.6103 - acc: 0.6985 - val_loss: 0.6106 - val_acc: 0.7344\n",
      "Epoch 11/15\n",
      "22/21 [==============================] - 7s 299ms/step - loss: 0.6115 - acc: 0.6974 - val_loss: 0.6134 - val_acc: 0.7500\n",
      "Epoch 12/15\n",
      "22/21 [==============================] - 7s 338ms/step - loss: 0.5925 - acc: 0.6845 - val_loss: 0.6013 - val_acc: 0.7281\n",
      "Epoch 13/15\n",
      "22/21 [==============================] - 8s 344ms/step - loss: 0.5996 - acc: 0.7188 - val_loss: 0.5734 - val_acc: 0.7563\n",
      "Epoch 14/15\n",
      "22/21 [==============================] - 7s 321ms/step - loss: 0.5798 - acc: 0.7176 - val_loss: 0.5724 - val_acc: 0.7344\n",
      "Epoch 15/15\n",
      "22/21 [==============================] - 10s 457ms/step - loss: 0.5447 - acc: 0.7244 - val_loss: 0.6699 - val_acc: 0.7406\n"
     ]
    },
    {
     "data": {
      "text/plain": [
       "<tensorflow.python.keras.callbacks.History at 0x1b865f257f0>"
      ]
     },
     "execution_count": 43,
     "metadata": {},
     "output_type": "execute_result"
    }
   ],
   "source": [
    "cnn.fit_generator(x_train,steps_per_epoch=700/32,epochs=15,validation_data=x_test,validation_steps=300/32)"
   ]
  },
  {
   "cell_type": "code",
   "execution_count": 17,
   "metadata": {},
   "outputs": [],
   "source": [
    "cnn.save(\"rocksidentification.h5\")"
   ]
  },
  {
   "cell_type": "code",
   "execution_count": null,
   "metadata": {},
   "outputs": [],
   "source": []
  }
 ],
 "metadata": {
  "kernelspec": {
   "display_name": "Python 3",
   "language": "python",
   "name": "python3"
  },
  "language_info": {
   "codemirror_mode": {
    "name": "ipython",
    "version": 3
   },
   "file_extension": ".py",
   "mimetype": "text/x-python",
   "name": "python",
   "nbconvert_exporter": "python",
   "pygments_lexer": "ipython3",
   "version": "3.7.3"
  }
 },
 "nbformat": 4,
 "nbformat_minor": 2
}
