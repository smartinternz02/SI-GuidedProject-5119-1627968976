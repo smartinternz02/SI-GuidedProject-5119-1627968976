{
 "cells": [
  {
   "cell_type": "code",
   "execution_count": 1,
   "metadata": {},
   "outputs": [],
   "source": [
    "from tensorflow.keras.models import Sequential\n",
    "from tensorflow.keras.layers import Dense,Flatten,Convolution2D,MaxPooling2D"
   ]
  },
  {
   "cell_type": "code",
   "execution_count": 2,
   "metadata": {},
   "outputs": [],
   "source": [
    "from tensorflow.keras.preprocessing.image import ImageDataGenerator"
   ]
  },
  {
   "cell_type": "code",
   "execution_count": 3,
   "metadata": {},
   "outputs": [],
   "source": [
    "train_datagen= ImageDataGenerator(rescale=1./255,shear_range=0.2,zoom_range=0.2,horizontal_flip=True)\n",
    "test_datagen= ImageDataGenerator(rescale=1./255)"
   ]
  },
  {
   "cell_type": "code",
   "execution_count": 14,
   "metadata": {},
   "outputs": [
    {
     "name": "stdout",
     "output_type": "stream",
     "text": [
      "Found 1000 images belonging to 2 classes.\n",
      "Found 1000 images belonging to 2 classes.\n"
     ]
    }
   ],
   "source": [
    "x_train=train_datagen.flow_from_directory(r\"C:\\Externship CodeFiles\\Rock_Classification_Dataset\",target_size=(64,64),batch_size=32,class_mode='categorical')\n",
    "x_test=train_datagen.flow_from_directory(r\"C:\\Externship CodeFiles\\Rock_Classification_Dataset\",target_size=(64,64),batch_size=32,class_mode='categorical')"
   ]
  },
  {
   "cell_type": "code",
   "execution_count": 15,
   "metadata": {},
   "outputs": [],
   "source": [
    "cnn=Sequential()"
   ]
  },
  {
   "cell_type": "code",
   "execution_count": 16,
   "metadata": {},
   "outputs": [],
   "source": [
    "cnn.add(Convolution2D(32,(3,3),input_shape=(64,64,3)))"
   ]
  },
  {
   "cell_type": "code",
   "execution_count": 17,
   "metadata": {},
   "outputs": [],
   "source": [
    "cnn.add(MaxPooling2D(2,2))"
   ]
  },
  {
   "cell_type": "code",
   "execution_count": 18,
   "metadata": {},
   "outputs": [],
   "source": [
    "cnn.add(Flatten())"
   ]
  },
  {
   "cell_type": "code",
   "execution_count": 19,
   "metadata": {},
   "outputs": [],
   "source": [
    "cnn.add(Dense(units =128 ,kernel_initializer=\"random_uniform\",activation = 'relu'))"
   ]
  },
  {
   "cell_type": "code",
   "execution_count": 20,
   "metadata": {},
   "outputs": [],
   "source": [
    "cnn.add(Dense(units = 2,kernel_initializer=\"random_uniform\",activation = 'softmax'))"
   ]
  },
  {
   "cell_type": "code",
   "execution_count": 21,
   "metadata": {},
   "outputs": [],
   "source": [
    "cnn.compile(optimizer = 'rmsprop',loss=\"categorical_crossentropy\",metrics = ['accuracy'])"
   ]
  },
  {
   "cell_type": "code",
   "execution_count": 24,
   "metadata": {},
   "outputs": [
    {
     "name": "stdout",
     "output_type": "stream",
     "text": [
      "Epoch 1/15\n",
      "22/21 [==============================] - 5s 241ms/step - loss: 0.6198 - acc: 0.6960 - val_loss: 0.6602 - val_acc: 0.6625\n",
      "Epoch 2/15\n",
      "22/21 [==============================] - 5s 211ms/step - loss: 0.6102 - acc: 0.6882 - val_loss: 0.6434 - val_acc: 0.6906\n",
      "Epoch 3/15\n",
      "22/21 [==============================] - 4s 190ms/step - loss: 0.6055 - acc: 0.7015 - val_loss: 0.6125 - val_acc: 0.7094\n",
      "Epoch 4/15\n",
      "22/21 [==============================] - 4s 200ms/step - loss: 0.6192 - acc: 0.6897 - val_loss: 0.6219 - val_acc: 0.6844\n",
      "Epoch 5/15\n",
      "22/21 [==============================] - 4s 199ms/step - loss: 0.5918 - acc: 0.7230 - val_loss: 0.6224 - val_acc: 0.7188\n",
      "Epoch 6/15\n",
      "22/21 [==============================] - 4s 193ms/step - loss: 0.5880 - acc: 0.7044 - val_loss: 0.6317 - val_acc: 0.6812\n",
      "Epoch 7/15\n",
      "22/21 [==============================] - 4s 192ms/step - loss: 0.5918 - acc: 0.7045 - val_loss: 0.6141 - val_acc: 0.6906\n",
      "Epoch 8/15\n",
      "22/21 [==============================] - 4s 204ms/step - loss: 0.6030 - acc: 0.6845 - val_loss: 0.5624 - val_acc: 0.7688\n",
      "Epoch 9/15\n",
      "22/21 [==============================] - 4s 189ms/step - loss: 0.5657 - acc: 0.7230 - val_loss: 0.5804 - val_acc: 0.7375\n",
      "Epoch 10/15\n",
      "22/21 [==============================] - 4s 188ms/step - loss: 0.5766 - acc: 0.7162 - val_loss: 0.5860 - val_acc: 0.7250\n",
      "Epoch 11/15\n",
      "22/21 [==============================] - 5s 208ms/step - loss: 0.5479 - acc: 0.7301 - val_loss: 0.6779 - val_acc: 0.6844\n",
      "Epoch 12/15\n",
      "22/21 [==============================] - 4s 195ms/step - loss: 0.5579 - acc: 0.7059 - val_loss: 0.5835 - val_acc: 0.7156\n",
      "Epoch 13/15\n",
      "22/21 [==============================] - 5s 208ms/step - loss: 0.5517 - acc: 0.7191 - val_loss: 0.5535 - val_acc: 0.7500\n",
      "Epoch 14/15\n",
      "22/21 [==============================] - 5s 235ms/step - loss: 0.5377 - acc: 0.7485 - val_loss: 0.5674 - val_acc: 0.7000\n",
      "Epoch 15/15\n",
      "22/21 [==============================] - 4s 197ms/step - loss: 0.5716 - acc: 0.7031 - val_loss: 0.5554 - val_acc: 0.7531\n"
     ]
    },
    {
     "data": {
      "text/plain": [
       "<tensorflow.python.keras.callbacks.History at 0x1545c4dd4a8>"
      ]
     },
     "execution_count": 24,
     "metadata": {},
     "output_type": "execute_result"
    }
   ],
   "source": [
    "cnn.fit_generator(x_train,steps_per_epoch=700/32,epochs=15,validation_data=x_test,validation_steps=300/32)"
   ]
  },
  {
   "cell_type": "code",
   "execution_count": 25,
   "metadata": {},
   "outputs": [],
   "source": [
    "cnn.save(\"rocksidentification.h5\")"
   ]
  },
  {
   "cell_type": "code",
   "execution_count": null,
   "metadata": {},
   "outputs": [],
   "source": []
  }
 ],
 "metadata": {
  "kernelspec": {
   "display_name": "Python 3",
   "language": "python",
   "name": "python3"
  },
  "language_info": {
   "codemirror_mode": {
    "name": "ipython",
    "version": 3
   },
   "file_extension": ".py",
   "mimetype": "text/x-python",
   "name": "python",
   "nbconvert_exporter": "python",
   "pygments_lexer": "ipython3",
   "version": "3.7.3"
  }
 },
 "nbformat": 4,
 "nbformat_minor": 2
}
